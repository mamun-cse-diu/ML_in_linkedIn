{
  "cells": [
    {
      "cell_type": "markdown",
      "metadata": {
        "id": "view-in-github",
        "colab_type": "text"
      },
      "source": [
        "<a href=\"https://colab.research.google.com/github/mamun-cse-diu/ML_in_linkedIn/blob/main/How_to_Sample_Data.ipynb\" target=\"_parent\"><img src=\"https://colab.research.google.com/assets/colab-badge.svg\" alt=\"Open In Colab\"/></a>"
      ]
    },
    {
      "cell_type": "markdown",
      "metadata": {
        "id": "Ax51Ev1xOsT5"
      },
      "source": [
        "# How to Sample Data in Python"
      ]
    },
    {
      "cell_type": "markdown",
      "metadata": {
        "id": "bBTJvLTvOsT_"
      },
      "source": [
        "## Learning Objectives\n",
        "In order to get an unbiased assessment of the performance of a supervised machine learning model, we need to evaluate it based on data that it did not previously encounter during the training process. To accomplish this, we must first split our data into a training subset and a test subset prior to the model build stage. One common way to split data in this fashion is by creating non-overlapping subsets of the original data using one of several **sampling** approaches. By the end of the tutorial, you will have learned:\n",
        "\n",
        "+ how to split data using simple random sampling\n",
        "+ how to split data using stratified random sampling"
      ]
    },
    {
      "cell_type": "code",
      "execution_count": 1,
      "metadata": {
        "colab": {
          "base_uri": "https://localhost:8080/",
          "height": 424
        },
        "id": "ZBtXnome3fr0",
        "scrolled": false,
        "outputId": "8fa84614-9e96-4ffa-ebbe-077042b8cb43"
      },
      "outputs": [
        {
          "output_type": "execute_result",
          "data": {
            "text/plain": [
              "       citympg  cylinders  displacement             drive  highwaympg  \\\n",
              "0         14.0          6           4.1     2-Wheel Drive        19.0   \n",
              "1         14.0          8           5.0     2-Wheel Drive        20.0   \n",
              "2         18.0          8           5.7     2-Wheel Drive        26.0   \n",
              "3         21.0          6           4.3  Rear-Wheel Drive        31.0   \n",
              "4         14.0          8           4.1  Rear-Wheel Drive        19.0   \n",
              "...        ...        ...           ...               ...         ...   \n",
              "36974     17.0          8           4.7  Rear-Wheel Drive        25.0   \n",
              "36975     16.0          8           6.2  Rear-Wheel Drive        25.0   \n",
              "36976     15.0          8           6.2  Rear-Wheel Drive        22.0   \n",
              "36977     12.0         12           6.5  Rear-Wheel Drive        16.0   \n",
              "36978     13.0         12           6.0  Rear-Wheel Drive        22.0   \n",
              "\n",
              "                make                    model        class  year  \\\n",
              "0              Buick      Electra/Park Avenue   Large Cars  1984   \n",
              "1              Buick      Electra/Park Avenue   Large Cars  1984   \n",
              "2              Buick      Electra/Park Avenue   Large Cars  1984   \n",
              "3           Cadillac  Fleetwood/DeVille (FWD)   Large Cars  1984   \n",
              "4           Cadillac   Brougham/DeVille (RWD)   Large Cars  1984   \n",
              "...              ...                      ...          ...   ...   \n",
              "36974  Mercedes-Benz                    SL550  Two Seaters  2018   \n",
              "36975      Chevrolet                 Corvette  Two Seaters  2018   \n",
              "36976      Chevrolet                 Corvette  Two Seaters  2018   \n",
              "36977        Ferrari            812 Superfast  Two Seaters  2018   \n",
              "36978  Mercedes-Benz                 AMG SL65  Two Seaters  2018   \n",
              "\n",
              "      transmissiontype  transmissionspeeds  co2emissions  \n",
              "0            Automatic                   4    555.437500  \n",
              "1            Automatic                   4    555.437500  \n",
              "2            Automatic                   4    484.761905  \n",
              "3            Automatic                   4    424.166667  \n",
              "4            Automatic                   4    555.437500  \n",
              "...                ...                 ...           ...  \n",
              "36974        Automatic                   9    442.000000  \n",
              "36975           Manual                   7    466.000000  \n",
              "36976           Manual                   7    503.000000  \n",
              "36977        Automatic                   7    661.000000  \n",
              "36978        Automatic                   7    546.000000  \n",
              "\n",
              "[36979 rows x 12 columns]"
            ],
            "text/html": [
              "\n",
              "  <div id=\"df-3b70d7fa-c8ef-4fb1-8626-c263d799d173\">\n",
              "    <div class=\"colab-df-container\">\n",
              "      <div>\n",
              "<style scoped>\n",
              "    .dataframe tbody tr th:only-of-type {\n",
              "        vertical-align: middle;\n",
              "    }\n",
              "\n",
              "    .dataframe tbody tr th {\n",
              "        vertical-align: top;\n",
              "    }\n",
              "\n",
              "    .dataframe thead th {\n",
              "        text-align: right;\n",
              "    }\n",
              "</style>\n",
              "<table border=\"1\" class=\"dataframe\">\n",
              "  <thead>\n",
              "    <tr style=\"text-align: right;\">\n",
              "      <th></th>\n",
              "      <th>citympg</th>\n",
              "      <th>cylinders</th>\n",
              "      <th>displacement</th>\n",
              "      <th>drive</th>\n",
              "      <th>highwaympg</th>\n",
              "      <th>make</th>\n",
              "      <th>model</th>\n",
              "      <th>class</th>\n",
              "      <th>year</th>\n",
              "      <th>transmissiontype</th>\n",
              "      <th>transmissionspeeds</th>\n",
              "      <th>co2emissions</th>\n",
              "    </tr>\n",
              "  </thead>\n",
              "  <tbody>\n",
              "    <tr>\n",
              "      <th>0</th>\n",
              "      <td>14.0</td>\n",
              "      <td>6</td>\n",
              "      <td>4.1</td>\n",
              "      <td>2-Wheel Drive</td>\n",
              "      <td>19.0</td>\n",
              "      <td>Buick</td>\n",
              "      <td>Electra/Park Avenue</td>\n",
              "      <td>Large Cars</td>\n",
              "      <td>1984</td>\n",
              "      <td>Automatic</td>\n",
              "      <td>4</td>\n",
              "      <td>555.437500</td>\n",
              "    </tr>\n",
              "    <tr>\n",
              "      <th>1</th>\n",
              "      <td>14.0</td>\n",
              "      <td>8</td>\n",
              "      <td>5.0</td>\n",
              "      <td>2-Wheel Drive</td>\n",
              "      <td>20.0</td>\n",
              "      <td>Buick</td>\n",
              "      <td>Electra/Park Avenue</td>\n",
              "      <td>Large Cars</td>\n",
              "      <td>1984</td>\n",
              "      <td>Automatic</td>\n",
              "      <td>4</td>\n",
              "      <td>555.437500</td>\n",
              "    </tr>\n",
              "    <tr>\n",
              "      <th>2</th>\n",
              "      <td>18.0</td>\n",
              "      <td>8</td>\n",
              "      <td>5.7</td>\n",
              "      <td>2-Wheel Drive</td>\n",
              "      <td>26.0</td>\n",
              "      <td>Buick</td>\n",
              "      <td>Electra/Park Avenue</td>\n",
              "      <td>Large Cars</td>\n",
              "      <td>1984</td>\n",
              "      <td>Automatic</td>\n",
              "      <td>4</td>\n",
              "      <td>484.761905</td>\n",
              "    </tr>\n",
              "    <tr>\n",
              "      <th>3</th>\n",
              "      <td>21.0</td>\n",
              "      <td>6</td>\n",
              "      <td>4.3</td>\n",
              "      <td>Rear-Wheel Drive</td>\n",
              "      <td>31.0</td>\n",
              "      <td>Cadillac</td>\n",
              "      <td>Fleetwood/DeVille (FWD)</td>\n",
              "      <td>Large Cars</td>\n",
              "      <td>1984</td>\n",
              "      <td>Automatic</td>\n",
              "      <td>4</td>\n",
              "      <td>424.166667</td>\n",
              "    </tr>\n",
              "    <tr>\n",
              "      <th>4</th>\n",
              "      <td>14.0</td>\n",
              "      <td>8</td>\n",
              "      <td>4.1</td>\n",
              "      <td>Rear-Wheel Drive</td>\n",
              "      <td>19.0</td>\n",
              "      <td>Cadillac</td>\n",
              "      <td>Brougham/DeVille (RWD)</td>\n",
              "      <td>Large Cars</td>\n",
              "      <td>1984</td>\n",
              "      <td>Automatic</td>\n",
              "      <td>4</td>\n",
              "      <td>555.437500</td>\n",
              "    </tr>\n",
              "    <tr>\n",
              "      <th>...</th>\n",
              "      <td>...</td>\n",
              "      <td>...</td>\n",
              "      <td>...</td>\n",
              "      <td>...</td>\n",
              "      <td>...</td>\n",
              "      <td>...</td>\n",
              "      <td>...</td>\n",
              "      <td>...</td>\n",
              "      <td>...</td>\n",
              "      <td>...</td>\n",
              "      <td>...</td>\n",
              "      <td>...</td>\n",
              "    </tr>\n",
              "    <tr>\n",
              "      <th>36974</th>\n",
              "      <td>17.0</td>\n",
              "      <td>8</td>\n",
              "      <td>4.7</td>\n",
              "      <td>Rear-Wheel Drive</td>\n",
              "      <td>25.0</td>\n",
              "      <td>Mercedes-Benz</td>\n",
              "      <td>SL550</td>\n",
              "      <td>Two Seaters</td>\n",
              "      <td>2018</td>\n",
              "      <td>Automatic</td>\n",
              "      <td>9</td>\n",
              "      <td>442.000000</td>\n",
              "    </tr>\n",
              "    <tr>\n",
              "      <th>36975</th>\n",
              "      <td>16.0</td>\n",
              "      <td>8</td>\n",
              "      <td>6.2</td>\n",
              "      <td>Rear-Wheel Drive</td>\n",
              "      <td>25.0</td>\n",
              "      <td>Chevrolet</td>\n",
              "      <td>Corvette</td>\n",
              "      <td>Two Seaters</td>\n",
              "      <td>2018</td>\n",
              "      <td>Manual</td>\n",
              "      <td>7</td>\n",
              "      <td>466.000000</td>\n",
              "    </tr>\n",
              "    <tr>\n",
              "      <th>36976</th>\n",
              "      <td>15.0</td>\n",
              "      <td>8</td>\n",
              "      <td>6.2</td>\n",
              "      <td>Rear-Wheel Drive</td>\n",
              "      <td>22.0</td>\n",
              "      <td>Chevrolet</td>\n",
              "      <td>Corvette</td>\n",
              "      <td>Two Seaters</td>\n",
              "      <td>2018</td>\n",
              "      <td>Manual</td>\n",
              "      <td>7</td>\n",
              "      <td>503.000000</td>\n",
              "    </tr>\n",
              "    <tr>\n",
              "      <th>36977</th>\n",
              "      <td>12.0</td>\n",
              "      <td>12</td>\n",
              "      <td>6.5</td>\n",
              "      <td>Rear-Wheel Drive</td>\n",
              "      <td>16.0</td>\n",
              "      <td>Ferrari</td>\n",
              "      <td>812 Superfast</td>\n",
              "      <td>Two Seaters</td>\n",
              "      <td>2018</td>\n",
              "      <td>Automatic</td>\n",
              "      <td>7</td>\n",
              "      <td>661.000000</td>\n",
              "    </tr>\n",
              "    <tr>\n",
              "      <th>36978</th>\n",
              "      <td>13.0</td>\n",
              "      <td>12</td>\n",
              "      <td>6.0</td>\n",
              "      <td>Rear-Wheel Drive</td>\n",
              "      <td>22.0</td>\n",
              "      <td>Mercedes-Benz</td>\n",
              "      <td>AMG SL65</td>\n",
              "      <td>Two Seaters</td>\n",
              "      <td>2018</td>\n",
              "      <td>Automatic</td>\n",
              "      <td>7</td>\n",
              "      <td>546.000000</td>\n",
              "    </tr>\n",
              "  </tbody>\n",
              "</table>\n",
              "<p>36979 rows × 12 columns</p>\n",
              "</div>\n",
              "      <button class=\"colab-df-convert\" onclick=\"convertToInteractive('df-3b70d7fa-c8ef-4fb1-8626-c263d799d173')\"\n",
              "              title=\"Convert this dataframe to an interactive table.\"\n",
              "              style=\"display:none;\">\n",
              "        \n",
              "  <svg xmlns=\"http://www.w3.org/2000/svg\" height=\"24px\"viewBox=\"0 0 24 24\"\n",
              "       width=\"24px\">\n",
              "    <path d=\"M0 0h24v24H0V0z\" fill=\"none\"/>\n",
              "    <path d=\"M18.56 5.44l.94 2.06.94-2.06 2.06-.94-2.06-.94-.94-2.06-.94 2.06-2.06.94zm-11 1L8.5 8.5l.94-2.06 2.06-.94-2.06-.94L8.5 2.5l-.94 2.06-2.06.94zm10 10l.94 2.06.94-2.06 2.06-.94-2.06-.94-.94-2.06-.94 2.06-2.06.94z\"/><path d=\"M17.41 7.96l-1.37-1.37c-.4-.4-.92-.59-1.43-.59-.52 0-1.04.2-1.43.59L10.3 9.45l-7.72 7.72c-.78.78-.78 2.05 0 2.83L4 21.41c.39.39.9.59 1.41.59.51 0 1.02-.2 1.41-.59l7.78-7.78 2.81-2.81c.8-.78.8-2.07 0-2.86zM5.41 20L4 18.59l7.72-7.72 1.47 1.35L5.41 20z\"/>\n",
              "  </svg>\n",
              "      </button>\n",
              "      \n",
              "  <style>\n",
              "    .colab-df-container {\n",
              "      display:flex;\n",
              "      flex-wrap:wrap;\n",
              "      gap: 12px;\n",
              "    }\n",
              "\n",
              "    .colab-df-convert {\n",
              "      background-color: #E8F0FE;\n",
              "      border: none;\n",
              "      border-radius: 50%;\n",
              "      cursor: pointer;\n",
              "      display: none;\n",
              "      fill: #1967D2;\n",
              "      height: 32px;\n",
              "      padding: 0 0 0 0;\n",
              "      width: 32px;\n",
              "    }\n",
              "\n",
              "    .colab-df-convert:hover {\n",
              "      background-color: #E2EBFA;\n",
              "      box-shadow: 0px 1px 2px rgba(60, 64, 67, 0.3), 0px 1px 3px 1px rgba(60, 64, 67, 0.15);\n",
              "      fill: #174EA6;\n",
              "    }\n",
              "\n",
              "    [theme=dark] .colab-df-convert {\n",
              "      background-color: #3B4455;\n",
              "      fill: #D2E3FC;\n",
              "    }\n",
              "\n",
              "    [theme=dark] .colab-df-convert:hover {\n",
              "      background-color: #434B5C;\n",
              "      box-shadow: 0px 1px 3px 1px rgba(0, 0, 0, 0.15);\n",
              "      filter: drop-shadow(0px 1px 2px rgba(0, 0, 0, 0.3));\n",
              "      fill: #FFFFFF;\n",
              "    }\n",
              "  </style>\n",
              "\n",
              "      <script>\n",
              "        const buttonEl =\n",
              "          document.querySelector('#df-3b70d7fa-c8ef-4fb1-8626-c263d799d173 button.colab-df-convert');\n",
              "        buttonEl.style.display =\n",
              "          google.colab.kernel.accessAllowed ? 'block' : 'none';\n",
              "\n",
              "        async function convertToInteractive(key) {\n",
              "          const element = document.querySelector('#df-3b70d7fa-c8ef-4fb1-8626-c263d799d173');\n",
              "          const dataTable =\n",
              "            await google.colab.kernel.invokeFunction('convertToInteractive',\n",
              "                                                     [key], {});\n",
              "          if (!dataTable) return;\n",
              "\n",
              "          const docLinkHtml = 'Like what you see? Visit the ' +\n",
              "            '<a target=\"_blank\" href=https://colab.research.google.com/notebooks/data_table.ipynb>data table notebook</a>'\n",
              "            + ' to learn more about interactive tables.';\n",
              "          element.innerHTML = '';\n",
              "          dataTable['output_type'] = 'display_data';\n",
              "          await google.colab.output.renderOutput(dataTable, element);\n",
              "          const docLink = document.createElement('div');\n",
              "          docLink.innerHTML = docLinkHtml;\n",
              "          element.appendChild(docLink);\n",
              "        }\n",
              "      </script>\n",
              "    </div>\n",
              "  </div>\n",
              "  "
            ]
          },
          "metadata": {},
          "execution_count": 1
        }
      ],
      "source": [
        "import pandas as pd\n",
        "vehicles = pd.read_csv(\"https://raw.githubusercontent.com/mamun-cse-diu/ML_in_linkedIn/main/vehicles.csv\")\n",
        "vehicles"
      ]
    },
    {
      "cell_type": "code",
      "execution_count": 2,
      "metadata": {
        "scrolled": true,
        "colab": {
          "base_uri": "https://localhost:8080/",
          "height": 206
        },
        "id": "kZeA1ftnOsUJ",
        "outputId": "9d70d20f-fd53-4108-cc46-82686feb3d11"
      },
      "outputs": [
        {
          "output_type": "execute_result",
          "data": {
            "text/plain": [
              "   co2emissions\n",
              "0    555.437500\n",
              "1    555.437500\n",
              "2    484.761905\n",
              "3    424.166667\n",
              "4    555.437500"
            ],
            "text/html": [
              "\n",
              "  <div id=\"df-42927a84-79e4-4eec-b3e2-ca5061533126\">\n",
              "    <div class=\"colab-df-container\">\n",
              "      <div>\n",
              "<style scoped>\n",
              "    .dataframe tbody tr th:only-of-type {\n",
              "        vertical-align: middle;\n",
              "    }\n",
              "\n",
              "    .dataframe tbody tr th {\n",
              "        vertical-align: top;\n",
              "    }\n",
              "\n",
              "    .dataframe thead th {\n",
              "        text-align: right;\n",
              "    }\n",
              "</style>\n",
              "<table border=\"1\" class=\"dataframe\">\n",
              "  <thead>\n",
              "    <tr style=\"text-align: right;\">\n",
              "      <th></th>\n",
              "      <th>co2emissions</th>\n",
              "    </tr>\n",
              "  </thead>\n",
              "  <tbody>\n",
              "    <tr>\n",
              "      <th>0</th>\n",
              "      <td>555.437500</td>\n",
              "    </tr>\n",
              "    <tr>\n",
              "      <th>1</th>\n",
              "      <td>555.437500</td>\n",
              "    </tr>\n",
              "    <tr>\n",
              "      <th>2</th>\n",
              "      <td>484.761905</td>\n",
              "    </tr>\n",
              "    <tr>\n",
              "      <th>3</th>\n",
              "      <td>424.166667</td>\n",
              "    </tr>\n",
              "    <tr>\n",
              "      <th>4</th>\n",
              "      <td>555.437500</td>\n",
              "    </tr>\n",
              "  </tbody>\n",
              "</table>\n",
              "</div>\n",
              "      <button class=\"colab-df-convert\" onclick=\"convertToInteractive('df-42927a84-79e4-4eec-b3e2-ca5061533126')\"\n",
              "              title=\"Convert this dataframe to an interactive table.\"\n",
              "              style=\"display:none;\">\n",
              "        \n",
              "  <svg xmlns=\"http://www.w3.org/2000/svg\" height=\"24px\"viewBox=\"0 0 24 24\"\n",
              "       width=\"24px\">\n",
              "    <path d=\"M0 0h24v24H0V0z\" fill=\"none\"/>\n",
              "    <path d=\"M18.56 5.44l.94 2.06.94-2.06 2.06-.94-2.06-.94-.94-2.06-.94 2.06-2.06.94zm-11 1L8.5 8.5l.94-2.06 2.06-.94-2.06-.94L8.5 2.5l-.94 2.06-2.06.94zm10 10l.94 2.06.94-2.06 2.06-.94-2.06-.94-.94-2.06-.94 2.06-2.06.94z\"/><path d=\"M17.41 7.96l-1.37-1.37c-.4-.4-.92-.59-1.43-.59-.52 0-1.04.2-1.43.59L10.3 9.45l-7.72 7.72c-.78.78-.78 2.05 0 2.83L4 21.41c.39.39.9.59 1.41.59.51 0 1.02-.2 1.41-.59l7.78-7.78 2.81-2.81c.8-.78.8-2.07 0-2.86zM5.41 20L4 18.59l7.72-7.72 1.47 1.35L5.41 20z\"/>\n",
              "  </svg>\n",
              "      </button>\n",
              "      \n",
              "  <style>\n",
              "    .colab-df-container {\n",
              "      display:flex;\n",
              "      flex-wrap:wrap;\n",
              "      gap: 12px;\n",
              "    }\n",
              "\n",
              "    .colab-df-convert {\n",
              "      background-color: #E8F0FE;\n",
              "      border: none;\n",
              "      border-radius: 50%;\n",
              "      cursor: pointer;\n",
              "      display: none;\n",
              "      fill: #1967D2;\n",
              "      height: 32px;\n",
              "      padding: 0 0 0 0;\n",
              "      width: 32px;\n",
              "    }\n",
              "\n",
              "    .colab-df-convert:hover {\n",
              "      background-color: #E2EBFA;\n",
              "      box-shadow: 0px 1px 2px rgba(60, 64, 67, 0.3), 0px 1px 3px 1px rgba(60, 64, 67, 0.15);\n",
              "      fill: #174EA6;\n",
              "    }\n",
              "\n",
              "    [theme=dark] .colab-df-convert {\n",
              "      background-color: #3B4455;\n",
              "      fill: #D2E3FC;\n",
              "    }\n",
              "\n",
              "    [theme=dark] .colab-df-convert:hover {\n",
              "      background-color: #434B5C;\n",
              "      box-shadow: 0px 1px 3px 1px rgba(0, 0, 0, 0.15);\n",
              "      filter: drop-shadow(0px 1px 2px rgba(0, 0, 0, 0.3));\n",
              "      fill: #FFFFFF;\n",
              "    }\n",
              "  </style>\n",
              "\n",
              "      <script>\n",
              "        const buttonEl =\n",
              "          document.querySelector('#df-42927a84-79e4-4eec-b3e2-ca5061533126 button.colab-df-convert');\n",
              "        buttonEl.style.display =\n",
              "          google.colab.kernel.accessAllowed ? 'block' : 'none';\n",
              "\n",
              "        async function convertToInteractive(key) {\n",
              "          const element = document.querySelector('#df-42927a84-79e4-4eec-b3e2-ca5061533126');\n",
              "          const dataTable =\n",
              "            await google.colab.kernel.invokeFunction('convertToInteractive',\n",
              "                                                     [key], {});\n",
              "          if (!dataTable) return;\n",
              "\n",
              "          const docLinkHtml = 'Like what you see? Visit the ' +\n",
              "            '<a target=\"_blank\" href=https://colab.research.google.com/notebooks/data_table.ipynb>data table notebook</a>'\n",
              "            + ' to learn more about interactive tables.';\n",
              "          element.innerHTML = '';\n",
              "          dataTable['output_type'] = 'display_data';\n",
              "          await google.colab.output.renderOutput(dataTable, element);\n",
              "          const docLink = document.createElement('div');\n",
              "          docLink.innerHTML = docLinkHtml;\n",
              "          element.appendChild(docLink);\n",
              "        }\n",
              "      </script>\n",
              "    </div>\n",
              "  </div>\n",
              "  "
            ]
          },
          "metadata": {},
          "execution_count": 2
        }
      ],
      "source": [
        "response = 'co2emissions'\n",
        "y = vehicles[[response]]\n",
        "y.head()"
      ]
    },
    {
      "cell_type": "code",
      "execution_count": 4,
      "metadata": {
        "colab": {
          "base_uri": "https://localhost:8080/"
        },
        "id": "q3T1yJYPOsUK",
        "outputId": "83e010fb-4a53-409f-a2c5-58b327d29c3c"
      },
      "outputs": [
        {
          "output_type": "execute_result",
          "data": {
            "text/plain": [
              "['citympg',\n",
              " 'cylinders',\n",
              " 'displacement',\n",
              " 'drive',\n",
              " 'highwaympg',\n",
              " 'make',\n",
              " 'model',\n",
              " 'class',\n",
              " 'year',\n",
              " 'transmissiontype',\n",
              " 'transmissionspeeds',\n",
              " 'co2emissions']"
            ]
          },
          "metadata": {},
          "execution_count": 4
        }
      ],
      "source": [
        "predictors = list(vehicles.columns)\n",
        "predictors"
      ]
    },
    {
      "cell_type": "code",
      "execution_count": 5,
      "metadata": {
        "colab": {
          "base_uri": "https://localhost:8080/"
        },
        "id": "VrHN2EdvOsUM",
        "outputId": "afee8042-b893-4831-8c21-5efdcc71ff98"
      },
      "outputs": [
        {
          "output_type": "execute_result",
          "data": {
            "text/plain": [
              "['citympg',\n",
              " 'cylinders',\n",
              " 'displacement',\n",
              " 'drive',\n",
              " 'highwaympg',\n",
              " 'make',\n",
              " 'model',\n",
              " 'class',\n",
              " 'year',\n",
              " 'transmissiontype',\n",
              " 'transmissionspeeds']"
            ]
          },
          "metadata": {},
          "execution_count": 5
        }
      ],
      "source": [
        "predictors.remove(response)\n",
        "predictors"
      ]
    },
    {
      "cell_type": "code",
      "execution_count": 6,
      "metadata": {
        "scrolled": false,
        "colab": {
          "base_uri": "https://localhost:8080/",
          "height": 206
        },
        "id": "yAuM9ESwOsUN",
        "outputId": "5858d665-7954-4081-834d-41340488ee83"
      },
      "outputs": [
        {
          "output_type": "execute_result",
          "data": {
            "text/plain": [
              "   citympg  cylinders  displacement             drive  highwaympg      make  \\\n",
              "0     14.0          6           4.1     2-Wheel Drive        19.0     Buick   \n",
              "1     14.0          8           5.0     2-Wheel Drive        20.0     Buick   \n",
              "2     18.0          8           5.7     2-Wheel Drive        26.0     Buick   \n",
              "3     21.0          6           4.3  Rear-Wheel Drive        31.0  Cadillac   \n",
              "4     14.0          8           4.1  Rear-Wheel Drive        19.0  Cadillac   \n",
              "\n",
              "                     model       class  year transmissiontype  \\\n",
              "0      Electra/Park Avenue  Large Cars  1984        Automatic   \n",
              "1      Electra/Park Avenue  Large Cars  1984        Automatic   \n",
              "2      Electra/Park Avenue  Large Cars  1984        Automatic   \n",
              "3  Fleetwood/DeVille (FWD)  Large Cars  1984        Automatic   \n",
              "4   Brougham/DeVille (RWD)  Large Cars  1984        Automatic   \n",
              "\n",
              "   transmissionspeeds  \n",
              "0                   4  \n",
              "1                   4  \n",
              "2                   4  \n",
              "3                   4  \n",
              "4                   4  "
            ],
            "text/html": [
              "\n",
              "  <div id=\"df-35f64845-46d5-4ef5-a234-fc3651f7e584\">\n",
              "    <div class=\"colab-df-container\">\n",
              "      <div>\n",
              "<style scoped>\n",
              "    .dataframe tbody tr th:only-of-type {\n",
              "        vertical-align: middle;\n",
              "    }\n",
              "\n",
              "    .dataframe tbody tr th {\n",
              "        vertical-align: top;\n",
              "    }\n",
              "\n",
              "    .dataframe thead th {\n",
              "        text-align: right;\n",
              "    }\n",
              "</style>\n",
              "<table border=\"1\" class=\"dataframe\">\n",
              "  <thead>\n",
              "    <tr style=\"text-align: right;\">\n",
              "      <th></th>\n",
              "      <th>citympg</th>\n",
              "      <th>cylinders</th>\n",
              "      <th>displacement</th>\n",
              "      <th>drive</th>\n",
              "      <th>highwaympg</th>\n",
              "      <th>make</th>\n",
              "      <th>model</th>\n",
              "      <th>class</th>\n",
              "      <th>year</th>\n",
              "      <th>transmissiontype</th>\n",
              "      <th>transmissionspeeds</th>\n",
              "    </tr>\n",
              "  </thead>\n",
              "  <tbody>\n",
              "    <tr>\n",
              "      <th>0</th>\n",
              "      <td>14.0</td>\n",
              "      <td>6</td>\n",
              "      <td>4.1</td>\n",
              "      <td>2-Wheel Drive</td>\n",
              "      <td>19.0</td>\n",
              "      <td>Buick</td>\n",
              "      <td>Electra/Park Avenue</td>\n",
              "      <td>Large Cars</td>\n",
              "      <td>1984</td>\n",
              "      <td>Automatic</td>\n",
              "      <td>4</td>\n",
              "    </tr>\n",
              "    <tr>\n",
              "      <th>1</th>\n",
              "      <td>14.0</td>\n",
              "      <td>8</td>\n",
              "      <td>5.0</td>\n",
              "      <td>2-Wheel Drive</td>\n",
              "      <td>20.0</td>\n",
              "      <td>Buick</td>\n",
              "      <td>Electra/Park Avenue</td>\n",
              "      <td>Large Cars</td>\n",
              "      <td>1984</td>\n",
              "      <td>Automatic</td>\n",
              "      <td>4</td>\n",
              "    </tr>\n",
              "    <tr>\n",
              "      <th>2</th>\n",
              "      <td>18.0</td>\n",
              "      <td>8</td>\n",
              "      <td>5.7</td>\n",
              "      <td>2-Wheel Drive</td>\n",
              "      <td>26.0</td>\n",
              "      <td>Buick</td>\n",
              "      <td>Electra/Park Avenue</td>\n",
              "      <td>Large Cars</td>\n",
              "      <td>1984</td>\n",
              "      <td>Automatic</td>\n",
              "      <td>4</td>\n",
              "    </tr>\n",
              "    <tr>\n",
              "      <th>3</th>\n",
              "      <td>21.0</td>\n",
              "      <td>6</td>\n",
              "      <td>4.3</td>\n",
              "      <td>Rear-Wheel Drive</td>\n",
              "      <td>31.0</td>\n",
              "      <td>Cadillac</td>\n",
              "      <td>Fleetwood/DeVille (FWD)</td>\n",
              "      <td>Large Cars</td>\n",
              "      <td>1984</td>\n",
              "      <td>Automatic</td>\n",
              "      <td>4</td>\n",
              "    </tr>\n",
              "    <tr>\n",
              "      <th>4</th>\n",
              "      <td>14.0</td>\n",
              "      <td>8</td>\n",
              "      <td>4.1</td>\n",
              "      <td>Rear-Wheel Drive</td>\n",
              "      <td>19.0</td>\n",
              "      <td>Cadillac</td>\n",
              "      <td>Brougham/DeVille (RWD)</td>\n",
              "      <td>Large Cars</td>\n",
              "      <td>1984</td>\n",
              "      <td>Automatic</td>\n",
              "      <td>4</td>\n",
              "    </tr>\n",
              "  </tbody>\n",
              "</table>\n",
              "</div>\n",
              "      <button class=\"colab-df-convert\" onclick=\"convertToInteractive('df-35f64845-46d5-4ef5-a234-fc3651f7e584')\"\n",
              "              title=\"Convert this dataframe to an interactive table.\"\n",
              "              style=\"display:none;\">\n",
              "        \n",
              "  <svg xmlns=\"http://www.w3.org/2000/svg\" height=\"24px\"viewBox=\"0 0 24 24\"\n",
              "       width=\"24px\">\n",
              "    <path d=\"M0 0h24v24H0V0z\" fill=\"none\"/>\n",
              "    <path d=\"M18.56 5.44l.94 2.06.94-2.06 2.06-.94-2.06-.94-.94-2.06-.94 2.06-2.06.94zm-11 1L8.5 8.5l.94-2.06 2.06-.94-2.06-.94L8.5 2.5l-.94 2.06-2.06.94zm10 10l.94 2.06.94-2.06 2.06-.94-2.06-.94-.94-2.06-.94 2.06-2.06.94z\"/><path d=\"M17.41 7.96l-1.37-1.37c-.4-.4-.92-.59-1.43-.59-.52 0-1.04.2-1.43.59L10.3 9.45l-7.72 7.72c-.78.78-.78 2.05 0 2.83L4 21.41c.39.39.9.59 1.41.59.51 0 1.02-.2 1.41-.59l7.78-7.78 2.81-2.81c.8-.78.8-2.07 0-2.86zM5.41 20L4 18.59l7.72-7.72 1.47 1.35L5.41 20z\"/>\n",
              "  </svg>\n",
              "      </button>\n",
              "      \n",
              "  <style>\n",
              "    .colab-df-container {\n",
              "      display:flex;\n",
              "      flex-wrap:wrap;\n",
              "      gap: 12px;\n",
              "    }\n",
              "\n",
              "    .colab-df-convert {\n",
              "      background-color: #E8F0FE;\n",
              "      border: none;\n",
              "      border-radius: 50%;\n",
              "      cursor: pointer;\n",
              "      display: none;\n",
              "      fill: #1967D2;\n",
              "      height: 32px;\n",
              "      padding: 0 0 0 0;\n",
              "      width: 32px;\n",
              "    }\n",
              "\n",
              "    .colab-df-convert:hover {\n",
              "      background-color: #E2EBFA;\n",
              "      box-shadow: 0px 1px 2px rgba(60, 64, 67, 0.3), 0px 1px 3px 1px rgba(60, 64, 67, 0.15);\n",
              "      fill: #174EA6;\n",
              "    }\n",
              "\n",
              "    [theme=dark] .colab-df-convert {\n",
              "      background-color: #3B4455;\n",
              "      fill: #D2E3FC;\n",
              "    }\n",
              "\n",
              "    [theme=dark] .colab-df-convert:hover {\n",
              "      background-color: #434B5C;\n",
              "      box-shadow: 0px 1px 3px 1px rgba(0, 0, 0, 0.15);\n",
              "      filter: drop-shadow(0px 1px 2px rgba(0, 0, 0, 0.3));\n",
              "      fill: #FFFFFF;\n",
              "    }\n",
              "  </style>\n",
              "\n",
              "      <script>\n",
              "        const buttonEl =\n",
              "          document.querySelector('#df-35f64845-46d5-4ef5-a234-fc3651f7e584 button.colab-df-convert');\n",
              "        buttonEl.style.display =\n",
              "          google.colab.kernel.accessAllowed ? 'block' : 'none';\n",
              "\n",
              "        async function convertToInteractive(key) {\n",
              "          const element = document.querySelector('#df-35f64845-46d5-4ef5-a234-fc3651f7e584');\n",
              "          const dataTable =\n",
              "            await google.colab.kernel.invokeFunction('convertToInteractive',\n",
              "                                                     [key], {});\n",
              "          if (!dataTable) return;\n",
              "\n",
              "          const docLinkHtml = 'Like what you see? Visit the ' +\n",
              "            '<a target=\"_blank\" href=https://colab.research.google.com/notebooks/data_table.ipynb>data table notebook</a>'\n",
              "            + ' to learn more about interactive tables.';\n",
              "          element.innerHTML = '';\n",
              "          dataTable['output_type'] = 'display_data';\n",
              "          await google.colab.output.renderOutput(dataTable, element);\n",
              "          const docLink = document.createElement('div');\n",
              "          docLink.innerHTML = docLinkHtml;\n",
              "          element.appendChild(docLink);\n",
              "        }\n",
              "      </script>\n",
              "    </div>\n",
              "  </div>\n",
              "  "
            ]
          },
          "metadata": {},
          "execution_count": 6
        }
      ],
      "source": [
        "x = vehicles[predictors]\n",
        "x.head()"
      ]
    },
    {
      "cell_type": "markdown",
      "metadata": {
        "id": "M6Uu6AtyOsUO"
      },
      "source": [
        "## How to split data using Simple Random Sampling"
      ]
    },
    {
      "cell_type": "code",
      "execution_count": 7,
      "metadata": {
        "id": "QaJX_0wrOsUS"
      },
      "outputs": [],
      "source": [
        "from sklearn.model_selection import train_test_split"
      ]
    },
    {
      "cell_type": "code",
      "execution_count": 8,
      "metadata": {
        "id": "W8pChl-bOsUU"
      },
      "outputs": [],
      "source": [
        "x_train, x_test, y_train, y_test = train_test_split(x, y)"
      ]
    },
    {
      "cell_type": "code",
      "execution_count": 9,
      "metadata": {
        "colab": {
          "base_uri": "https://localhost:8080/"
        },
        "id": "_8EHF3jBOsUW",
        "outputId": "46001396-a1de-47fa-ae66-57733aa639b5"
      },
      "outputs": [
        {
          "output_type": "execute_result",
          "data": {
            "text/plain": [
              "(27734, 11)"
            ]
          },
          "metadata": {},
          "execution_count": 9
        }
      ],
      "source": [
        "x_train.shape"
      ]
    },
    {
      "cell_type": "code",
      "execution_count": 10,
      "metadata": {
        "colab": {
          "base_uri": "https://localhost:8080/"
        },
        "id": "lUVhj3S_OsUY",
        "outputId": "9f2df37e-7641-45eb-e6b9-8a2539c76417"
      },
      "outputs": [
        {
          "output_type": "execute_result",
          "data": {
            "text/plain": [
              "(27734, 1)"
            ]
          },
          "metadata": {},
          "execution_count": 10
        }
      ],
      "source": [
        "y_train.shape"
      ]
    },
    {
      "cell_type": "code",
      "execution_count": 11,
      "metadata": {
        "colab": {
          "base_uri": "https://localhost:8080/"
        },
        "id": "9Y3JlA6NOsUa",
        "outputId": "69307f39-4893-473a-8dbd-babe484f791f"
      },
      "outputs": [
        {
          "output_type": "execute_result",
          "data": {
            "text/plain": [
              "(9245, 11)"
            ]
          },
          "metadata": {},
          "execution_count": 11
        }
      ],
      "source": [
        "x_test.shape"
      ]
    },
    {
      "cell_type": "code",
      "execution_count": 12,
      "metadata": {
        "colab": {
          "base_uri": "https://localhost:8080/"
        },
        "id": "yy4rUBNxOsUc",
        "outputId": "09aa287a-995e-404b-b5e5-1fe2571847cb"
      },
      "outputs": [
        {
          "output_type": "execute_result",
          "data": {
            "text/plain": [
              "(9245, 1)"
            ]
          },
          "metadata": {},
          "execution_count": 12
        }
      ],
      "source": [
        "y_test.shape"
      ]
    },
    {
      "cell_type": "code",
      "execution_count": 14,
      "metadata": {
        "colab": {
          "base_uri": "https://localhost:8080/"
        },
        "id": "kt5Kpo79OsUd",
        "outputId": "3e279713-06bf-4c1b-baf7-84902f1e53b8"
      },
      "outputs": [
        {
          "output_type": "execute_result",
          "data": {
            "text/plain": [
              "(14792, 11)"
            ]
          },
          "metadata": {},
          "execution_count": 14
        }
      ],
      "source": [
        "x_train, x_test, y_train, y_test = train_test_split(x, y,\n",
        "                                                    test_size = 0.4)\n",
        "x_test.shape"
      ]
    },
    {
      "cell_type": "markdown",
      "metadata": {
        "id": "3bXKLafzOsUf"
      },
      "source": [
        "## How to split data using Stratified Random Sampling"
      ]
    },
    {
      "cell_type": "code",
      "execution_count": 15,
      "metadata": {
        "id": "tEzHKvHVOsUi"
      },
      "outputs": [],
      "source": [
        "x_train, x_test, y_train, y_test = train_test_split(x, y, \n",
        "                                                    test_size = 0.01, \n",
        "                                                    random_state = 1234)"
      ]
    },
    {
      "cell_type": "code",
      "execution_count": 16,
      "metadata": {
        "scrolled": false,
        "colab": {
          "base_uri": "https://localhost:8080/"
        },
        "id": "QHBHaSD1OsUk",
        "outputId": "1b479832-2204-4427-ca02-350f7c839e18"
      },
      "outputs": [
        {
          "output_type": "execute_result",
          "data": {
            "text/plain": [
              "Rear-Wheel Drive     0.356797\n",
              "Front-Wheel Drive    0.353552\n",
              "All-Wheel Drive      0.239893\n",
              "4-Wheel Drive        0.036480\n",
              "2-Wheel Drive        0.013278\n",
              "Name: drive, dtype: float64"
            ]
          },
          "metadata": {},
          "execution_count": 16
        }
      ],
      "source": [
        "x['drive'].value_counts(normalize = True)"
      ]
    },
    {
      "cell_type": "code",
      "execution_count": 17,
      "metadata": {
        "scrolled": false,
        "colab": {
          "base_uri": "https://localhost:8080/"
        },
        "id": "p3ara-7kOsUk",
        "outputId": "7a3ee22c-3fce-4426-d76b-89f3d4127f25"
      },
      "outputs": [
        {
          "output_type": "execute_result",
          "data": {
            "text/plain": [
              "Front-Wheel Drive    0.364865\n",
              "Rear-Wheel Drive     0.332432\n",
              "All-Wheel Drive      0.248649\n",
              "4-Wheel Drive        0.035135\n",
              "2-Wheel Drive        0.018919\n",
              "Name: drive, dtype: float64"
            ]
          },
          "metadata": {},
          "execution_count": 17
        }
      ],
      "source": [
        "x_test['drive'].value_counts(normalize = True)"
      ]
    },
    {
      "cell_type": "code",
      "execution_count": 18,
      "metadata": {
        "id": "d98mefqGOsUm"
      },
      "outputs": [],
      "source": [
        "x_train, x_test, y_train, y_test = train_test_split(x, y, \n",
        "                                                    test_size = 0.01, \n",
        "                                                    random_state = 1234)"
      ]
    },
    {
      "cell_type": "code",
      "execution_count": 19,
      "metadata": {
        "scrolled": true,
        "colab": {
          "base_uri": "https://localhost:8080/"
        },
        "id": "eTrFui5-OsUm",
        "outputId": "474f762b-7984-4a78-aade-9879904575b3"
      },
      "outputs": [
        {
          "output_type": "execute_result",
          "data": {
            "text/plain": [
              "Front-Wheel Drive    0.364865\n",
              "Rear-Wheel Drive     0.332432\n",
              "All-Wheel Drive      0.248649\n",
              "4-Wheel Drive        0.035135\n",
              "2-Wheel Drive        0.018919\n",
              "Name: drive, dtype: float64"
            ]
          },
          "metadata": {},
          "execution_count": 19
        }
      ],
      "source": [
        "x_test['drive'].value_counts(normalize = True)"
      ]
    }
  ],
  "metadata": {
    "colab": {
      "collapsed_sections": [],
      "provenance": [],
      "include_colab_link": true
    },
    "kernelspec": {
      "display_name": "Python 3",
      "language": "python",
      "name": "python3"
    },
    "language_info": {
      "codemirror_mode": {
        "name": "ipython",
        "version": 3
      },
      "file_extension": ".py",
      "mimetype": "text/x-python",
      "name": "python",
      "nbconvert_exporter": "python",
      "pygments_lexer": "ipython3",
      "version": "3.8.8"
    }
  },
  "nbformat": 4,
  "nbformat_minor": 0
}